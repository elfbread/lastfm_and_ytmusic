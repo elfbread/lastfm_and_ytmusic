{
 "cells": [
  {
   "cell_type": "code",
   "execution_count": 26,
   "metadata": {},
   "outputs": [],
   "source": [
    "import pandas as pd\n",
    "import numpy as np\n"
   ]
  },
  {
   "cell_type": "code",
   "execution_count": 27,
   "metadata": {},
   "outputs": [
    {
     "name": "stdout",
     "output_type": "stream",
     "text": [
      "          uts            utc_time                artist  \\\n",
      "0  1516971463  26 Jan 2018, 12:57             Disturbed   \n",
      "1  1516971182  26 Jan 2018, 12:53  Bring Me the Horizon   \n",
      "2  1516970932  26 Jan 2018, 12:48          Taylor Swift   \n",
      "3  1512741472  08 Dec 2017, 13:57          Taylor Swift   \n",
      "4  1512741265  08 Dec 2017, 13:54          Taylor Swift   \n",
      "\n",
      "                            artist_mbid              album  \\\n",
      "0                                   NaN       Immortalized   \n",
      "1  074e3847-f67f-49f9-81f1-8c8cea147e8e  That's the Spirit   \n",
      "2  20244d07-534f-4eff-b4d4-930878889970         reputation   \n",
      "3  20244d07-534f-4eff-b4d4-930878889970         reputation   \n",
      "4  20244d07-534f-4eff-b4d4-930878889970         reputation   \n",
      "\n",
      "                             album_mbid                track  \\\n",
      "0  14cc0ff8-9436-4bab-8c4a-eb27042089aa     The Vengeful One   \n",
      "1  3e8f35ea-5621-4929-af02-1a1415d8a94a               Throne   \n",
      "2  01bbea6d-d67b-4aba-a7e8-1b2fd3ffe310  I Did Something Bad   \n",
      "3  01bbea6d-d67b-4aba-a7e8-1b2fd3ffe310             End Game   \n",
      "4  01bbea6d-d67b-4aba-a7e8-1b2fd3ffe310     ...Ready for It?   \n",
      "\n",
      "                             track_mbid  \n",
      "0  12ad650f-f77b-41ef-bdd2-2bcd9245dec0  \n",
      "1  e4947b35-422b-4547-ad99-a107c1a40861  \n",
      "2  3b0ae439-3a09-40bf-8cc1-03739d69c961  \n",
      "3  5b2b1e7b-a06e-454e-a5f2-c199d14c003f  \n",
      "4  b0f82ca5-82a6-4536-a327-73bda8bc6abd  \n"
     ]
    }
   ],
   "source": [
    "# import raw data and preview\n",
    "scrobbleRaw = pd.read_csv('https://docs.google.com/spreadsheets/d/e/2PACX-1vQ-LABQnsGWrZSljqp0VDeO6LDr4p9xepvo-VJUOCYPOeWBsAOkLbL58xg9RjJaaf9xsRsLBfVQg4fN/pub?output=csv')\n",
    "print(scrobbleRaw.head())"
   ]
  },
  {
   "cell_type": "code",
   "execution_count": 28,
   "metadata": {},
   "outputs": [
    {
     "name": "stdout",
     "output_type": "stream",
     "text": [
      "                 artist                track\n",
      "0             Disturbed     The Vengeful One\n",
      "1  Bring Me the Horizon               Throne\n",
      "2          Taylor Swift  I Did Something Bad\n",
      "3          Taylor Swift             End Game\n",
      "4          Taylor Swift     ...Ready for It?\n"
     ]
    }
   ],
   "source": [
    "# drop useless columns\n",
    "scrobble = scrobbleRaw.drop(columns=['uts', 'utc_time', 'artist_mbid', 'album_mbid', 'track_mbid', 'album'])\n",
    "print(scrobble.head())"
   ]
  },
  {
   "cell_type": "code",
   "execution_count": 29,
   "metadata": {},
   "outputs": [
    {
     "name": "stdout",
     "output_type": "stream",
     "text": [
      "Count of missing values: 0\n"
     ]
    }
   ],
   "source": [
    "# find blank values\n",
    "count_nan = scrobble.isna().sum().sum()\n",
    "print('Count of missing values: ' + str(count_nan))"
   ]
  },
  {
   "cell_type": "code",
   "execution_count": 30,
   "metadata": {},
   "outputs": [
    {
     "name": "stdout",
     "output_type": "stream",
     "text": [
      "                 artist                track                           concat\n",
      "0             Disturbed     The Vengeful One        DisturbedThe Vengeful One\n",
      "1  Bring Me the Horizon               Throne       Bring Me the HorizonThrone\n",
      "2          Taylor Swift  I Did Something Bad  Taylor SwiftI Did Something Bad\n",
      "3          Taylor Swift             End Game             Taylor SwiftEnd Game\n",
      "4          Taylor Swift     ...Ready for It?     Taylor Swift...Ready for It?\n"
     ]
    }
   ],
   "source": [
    "# add new column\n",
    "scrobble['concat'] = scrobble['artist'] + scrobble['track']\n",
    "# df.drop(['name1','name2'],axis=1, inplace=True)\n",
    "print(scrobble.head())"
   ]
  },
  {
   "cell_type": "code",
   "execution_count": 31,
   "metadata": {},
   "outputs": [
    {
     "data": {
      "text/plain": [
       "73343"
      ]
     },
     "execution_count": 31,
     "metadata": {},
     "output_type": "execute_result"
    }
   ],
   "source": [
    "# number of rows\n",
    "len(scrobble.index)"
   ]
  },
  {
   "cell_type": "code",
   "execution_count": 32,
   "metadata": {},
   "outputs": [
    {
     "data": {
      "text/plain": [
       "68950"
      ]
     },
     "execution_count": 32,
     "metadata": {},
     "output_type": "execute_result"
    }
   ],
   "source": [
    "# find duplicates)\n",
    "# count duplicate rows\n",
    "len(scrobble['concat'])-len(scrobble['concat'].drop_duplicates())\n",
    "# df.drop_duplicates(subset=['brand'])"
   ]
  },
  {
   "cell_type": "code",
   "execution_count": 33,
   "metadata": {},
   "outputs": [
    {
     "name": "stdout",
     "output_type": "stream",
     "text": [
      "                      artist                          track  \\\n",
      "0                  Disturbed               The Vengeful One   \n",
      "1       Bring Me the Horizon                         Throne   \n",
      "2               Taylor Swift            I Did Something Bad   \n",
      "3               Taylor Swift                       End Game   \n",
      "20              Freedom Call          Metal Is For Everyone   \n",
      "...                      ...                            ...   \n",
      "72913        Fair to Midland           Dance Of The Manatee   \n",
      "73218          Savage Garden             To the Moon & Back   \n",
      "73234               Mudvayne                          Happy   \n",
      "73240  Kingdom Hearts II OST              The 13th Struggle   \n",
      "73245                    DHT  Listen To Your Heart (Techno)   \n",
      "\n",
      "                                       concat  \n",
      "0                   DisturbedThe Vengeful One  \n",
      "1                  Bring Me the HorizonThrone  \n",
      "2             Taylor SwiftI Did Something Bad  \n",
      "3                        Taylor SwiftEnd Game  \n",
      "20          Freedom CallMetal Is For Everyone  \n",
      "...                                       ...  \n",
      "72913     Fair to MidlandDance Of The Manatee  \n",
      "73218         Savage GardenTo the Moon & Back  \n",
      "73234                           MudvayneHappy  \n",
      "73240  Kingdom Hearts II OSTThe 13th Struggle  \n",
      "73245        DHTListen To Your Heart (Techno)  \n",
      "\n",
      "[1064 rows x 3 columns]\n"
     ]
    }
   ],
   "source": [
    "# Delete duplicate rows based on specific columns (Concat)\n",
    "scrobble_specific_columns = scrobble.drop_duplicates(subset=[\"concat\"], keep=False)\n",
    "print(scrobble_specific_columns)"
   ]
  },
  {
   "cell_type": "code",
   "execution_count": 34,
   "metadata": {},
   "outputs": [
    {
     "data": {
      "text/plain": [
       "1064"
      ]
     },
     "execution_count": 34,
     "metadata": {},
     "output_type": "execute_result"
    }
   ],
   "source": [
    "len(scrobble_specific_columns)"
   ]
  },
  {
   "cell_type": "code",
   "execution_count": 37,
   "metadata": {},
   "outputs": [
    {
     "data": {
      "text/plain": [
       "The Final Battle                 3\n",
       "On My Own                        3\n",
       "Monster                          2\n",
       "Let You Down                     2\n",
       "Home                             2\n",
       "                                ..\n",
       "Goodbye Agony                    1\n",
       "Faithless                        1\n",
       "Heart Of Fire                    1\n",
       "Sunrise                          1\n",
       "Listen To Your Heart (Techno)    1\n",
       "Name: track, Length: 1036, dtype: int64"
      ]
     },
     "execution_count": 37,
     "metadata": {},
     "output_type": "execute_result"
    }
   ],
   "source": [
    "scrobble_specific_columns['track'].value_counts()"
   ]
  }
 ],
 "metadata": {
  "kernelspec": {
   "display_name": "Python 3",
   "language": "python",
   "name": "python3"
  },
  "language_info": {
   "codemirror_mode": {
    "name": "ipython",
    "version": 3
   },
   "file_extension": ".py",
   "mimetype": "text/x-python",
   "name": "python",
   "nbconvert_exporter": "python",
   "pygments_lexer": "ipython3",
   "version": "3.10.1"
  }
 },
 "nbformat": 4,
 "nbformat_minor": 2
}
